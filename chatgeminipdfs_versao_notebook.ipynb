{
  "nbformat": 4,
  "nbformat_minor": 0,
  "metadata": {
    "colab": {
      "provenance": []
    },
    "kernelspec": {
      "name": "python3",
      "display_name": "Python 3"
    },
    "language_info": {
      "name": "python"
    },
    "widgets": {
      "application/vnd.jupyter.widget-state+json": {
        "17c58954ce454bb7a2424b46d774fe19": {
          "model_module": "@jupyter-widgets/controls",
          "model_name": "TextModel",
          "model_module_version": "1.5.0",
          "state": {
            "_dom_classes": [],
            "_model_module": "@jupyter-widgets/controls",
            "_model_module_version": "1.5.0",
            "_model_name": "TextModel",
            "_view_count": null,
            "_view_module": "@jupyter-widgets/controls",
            "_view_module_version": "1.5.0",
            "_view_name": "TextView",
            "continuous_update": true,
            "description": "Pergunta:",
            "description_tooltip": null,
            "disabled": false,
            "layout": "IPY_MODEL_cbb16dd250c0491c9617e2163fc3eb6c",
            "placeholder": "​",
            "style": "IPY_MODEL_3c09e8156fe14a7eadc7b8f9c0001b28",
            "value": "Faça um resumo da resposta deste pedido de LAI"
          }
        },
        "cbb16dd250c0491c9617e2163fc3eb6c": {
          "model_module": "@jupyter-widgets/base",
          "model_name": "LayoutModel",
          "model_module_version": "1.2.0",
          "state": {
            "_model_module": "@jupyter-widgets/base",
            "_model_module_version": "1.2.0",
            "_model_name": "LayoutModel",
            "_view_count": null,
            "_view_module": "@jupyter-widgets/base",
            "_view_module_version": "1.2.0",
            "_view_name": "LayoutView",
            "align_content": null,
            "align_items": null,
            "align_self": null,
            "border": null,
            "bottom": null,
            "display": null,
            "flex": null,
            "flex_flow": null,
            "grid_area": null,
            "grid_auto_columns": null,
            "grid_auto_flow": null,
            "grid_auto_rows": null,
            "grid_column": null,
            "grid_gap": null,
            "grid_row": null,
            "grid_template_areas": null,
            "grid_template_columns": null,
            "grid_template_rows": null,
            "height": null,
            "justify_content": null,
            "justify_items": null,
            "left": null,
            "margin": null,
            "max_height": null,
            "max_width": null,
            "min_height": null,
            "min_width": null,
            "object_fit": null,
            "object_position": null,
            "order": null,
            "overflow": null,
            "overflow_x": null,
            "overflow_y": null,
            "padding": null,
            "right": null,
            "top": null,
            "visibility": null,
            "width": null
          }
        },
        "3c09e8156fe14a7eadc7b8f9c0001b28": {
          "model_module": "@jupyter-widgets/controls",
          "model_name": "DescriptionStyleModel",
          "model_module_version": "1.5.0",
          "state": {
            "_model_module": "@jupyter-widgets/controls",
            "_model_module_version": "1.5.0",
            "_model_name": "DescriptionStyleModel",
            "_view_count": null,
            "_view_module": "@jupyter-widgets/base",
            "_view_module_version": "1.2.0",
            "_view_name": "StyleView",
            "description_width": ""
          }
        },
        "021ba14394124eec8136ddd0637926de": {
          "model_module": "@jupyter-widgets/controls",
          "model_name": "ButtonModel",
          "model_module_version": "1.5.0",
          "state": {
            "_dom_classes": [],
            "_model_module": "@jupyter-widgets/controls",
            "_model_module_version": "1.5.0",
            "_model_name": "ButtonModel",
            "_view_count": null,
            "_view_module": "@jupyter-widgets/controls",
            "_view_module_version": "1.5.0",
            "_view_name": "ButtonView",
            "button_style": "",
            "description": "Carregar PDFs",
            "disabled": false,
            "icon": "",
            "layout": "IPY_MODEL_47254eef95f64f6c9446fb06c4c2a1e3",
            "style": "IPY_MODEL_b94dae7276c24de5b1197b69c0cf9d82",
            "tooltip": ""
          }
        },
        "47254eef95f64f6c9446fb06c4c2a1e3": {
          "model_module": "@jupyter-widgets/base",
          "model_name": "LayoutModel",
          "model_module_version": "1.2.0",
          "state": {
            "_model_module": "@jupyter-widgets/base",
            "_model_module_version": "1.2.0",
            "_model_name": "LayoutModel",
            "_view_count": null,
            "_view_module": "@jupyter-widgets/base",
            "_view_module_version": "1.2.0",
            "_view_name": "LayoutView",
            "align_content": null,
            "align_items": null,
            "align_self": null,
            "border": null,
            "bottom": null,
            "display": null,
            "flex": null,
            "flex_flow": null,
            "grid_area": null,
            "grid_auto_columns": null,
            "grid_auto_flow": null,
            "grid_auto_rows": null,
            "grid_column": null,
            "grid_gap": null,
            "grid_row": null,
            "grid_template_areas": null,
            "grid_template_columns": null,
            "grid_template_rows": null,
            "height": null,
            "justify_content": null,
            "justify_items": null,
            "left": null,
            "margin": null,
            "max_height": null,
            "max_width": null,
            "min_height": null,
            "min_width": null,
            "object_fit": null,
            "object_position": null,
            "order": null,
            "overflow": null,
            "overflow_x": null,
            "overflow_y": null,
            "padding": null,
            "right": null,
            "top": null,
            "visibility": null,
            "width": null
          }
        },
        "b94dae7276c24de5b1197b69c0cf9d82": {
          "model_module": "@jupyter-widgets/controls",
          "model_name": "ButtonStyleModel",
          "model_module_version": "1.5.0",
          "state": {
            "_model_module": "@jupyter-widgets/controls",
            "_model_module_version": "1.5.0",
            "_model_name": "ButtonStyleModel",
            "_view_count": null,
            "_view_module": "@jupyter-widgets/base",
            "_view_module_version": "1.2.0",
            "_view_name": "StyleView",
            "button_color": null,
            "font_weight": ""
          }
        },
        "24a8630b4a5140c7a15d0b58938a4c49": {
          "model_module": "@jupyter-widgets/controls",
          "model_name": "ButtonModel",
          "model_module_version": "1.5.0",
          "state": {
            "_dom_classes": [],
            "_model_module": "@jupyter-widgets/controls",
            "_model_module_version": "1.5.0",
            "_model_name": "ButtonModel",
            "_view_count": null,
            "_view_module": "@jupyter-widgets/controls",
            "_view_module_version": "1.5.0",
            "_view_name": "ButtonView",
            "button_style": "",
            "description": "Perguntar",
            "disabled": false,
            "icon": "",
            "layout": "IPY_MODEL_0f74f9f153084d69a87f6f07866c8ac3",
            "style": "IPY_MODEL_47aa5735672746acb2f2f7eb4ad64bfe",
            "tooltip": ""
          }
        },
        "0f74f9f153084d69a87f6f07866c8ac3": {
          "model_module": "@jupyter-widgets/base",
          "model_name": "LayoutModel",
          "model_module_version": "1.2.0",
          "state": {
            "_model_module": "@jupyter-widgets/base",
            "_model_module_version": "1.2.0",
            "_model_name": "LayoutModel",
            "_view_count": null,
            "_view_module": "@jupyter-widgets/base",
            "_view_module_version": "1.2.0",
            "_view_name": "LayoutView",
            "align_content": null,
            "align_items": null,
            "align_self": null,
            "border": null,
            "bottom": null,
            "display": null,
            "flex": null,
            "flex_flow": null,
            "grid_area": null,
            "grid_auto_columns": null,
            "grid_auto_flow": null,
            "grid_auto_rows": null,
            "grid_column": null,
            "grid_gap": null,
            "grid_row": null,
            "grid_template_areas": null,
            "grid_template_columns": null,
            "grid_template_rows": null,
            "height": null,
            "justify_content": null,
            "justify_items": null,
            "left": null,
            "margin": null,
            "max_height": null,
            "max_width": null,
            "min_height": null,
            "min_width": null,
            "object_fit": null,
            "object_position": null,
            "order": null,
            "overflow": null,
            "overflow_x": null,
            "overflow_y": null,
            "padding": null,
            "right": null,
            "top": null,
            "visibility": null,
            "width": null
          }
        },
        "47aa5735672746acb2f2f7eb4ad64bfe": {
          "model_module": "@jupyter-widgets/controls",
          "model_name": "ButtonStyleModel",
          "model_module_version": "1.5.0",
          "state": {
            "_model_module": "@jupyter-widgets/controls",
            "_model_module_version": "1.5.0",
            "_model_name": "ButtonStyleModel",
            "_view_count": null,
            "_view_module": "@jupyter-widgets/base",
            "_view_module_version": "1.2.0",
            "_view_name": "StyleView",
            "button_color": null,
            "font_weight": ""
          }
        },
        "817628f1c37a412295955445fc869c06": {
          "model_module": "@jupyter-widgets/output",
          "model_name": "OutputModel",
          "model_module_version": "1.0.0",
          "state": {
            "_dom_classes": [],
            "_model_module": "@jupyter-widgets/output",
            "_model_module_version": "1.0.0",
            "_model_name": "OutputModel",
            "_view_count": null,
            "_view_module": "@jupyter-widgets/output",
            "_view_module_version": "1.0.0",
            "_view_name": "OutputView",
            "layout": "IPY_MODEL_e25d9fcc783a45a892da330913bbcd7a",
            "msg_id": "",
            "outputs": [
              {
                "output_type": "stream",
                "name": "stdout",
                "text": [
                  "O Ministério da Saúde respondeu a um pedido de acesso à informação sobre a faixa etária para a primeira rodada de vacinação contra a dengue. A resposta informa que a faixa etária inicial era de 10 e 11 anos devido à disponibilidade limitada de doses, mas que a faixa etária foi posteriormente ampliada para 10 a 14 anos. Todas as informações precisam ser checadas com as fontes das informações.\n"
                ]
              }
            ]
          }
        },
        "e25d9fcc783a45a892da330913bbcd7a": {
          "model_module": "@jupyter-widgets/base",
          "model_name": "LayoutModel",
          "model_module_version": "1.2.0",
          "state": {
            "_model_module": "@jupyter-widgets/base",
            "_model_module_version": "1.2.0",
            "_model_name": "LayoutModel",
            "_view_count": null,
            "_view_module": "@jupyter-widgets/base",
            "_view_module_version": "1.2.0",
            "_view_name": "LayoutView",
            "align_content": null,
            "align_items": null,
            "align_self": null,
            "border": null,
            "bottom": null,
            "display": null,
            "flex": null,
            "flex_flow": null,
            "grid_area": null,
            "grid_auto_columns": null,
            "grid_auto_flow": null,
            "grid_auto_rows": null,
            "grid_column": null,
            "grid_gap": null,
            "grid_row": null,
            "grid_template_areas": null,
            "grid_template_columns": null,
            "grid_template_rows": null,
            "height": null,
            "justify_content": null,
            "justify_items": null,
            "left": null,
            "margin": null,
            "max_height": null,
            "max_width": null,
            "min_height": null,
            "min_width": null,
            "object_fit": null,
            "object_position": null,
            "order": null,
            "overflow": null,
            "overflow_x": null,
            "overflow_y": null,
            "padding": null,
            "right": null,
            "top": null,
            "visibility": null,
            "width": null
          }
        }
      }
    }
  },
  "cells": [
    {
      "cell_type": "code",
      "execution_count": null,
      "metadata": {
        "id": "KorlzvWBcRTH"
      },
      "outputs": [],
      "source": [
        "# -*- coding: utf-8 -*-\n",
        "# Reinaldo Chaves (reichaves@gmail.com)\n",
        "# Script de chatbot que usa gemini-1.0-pro, embedding-001 para entrevistar jornalisticamente arquivos .PDF\n",
        "# Programa adaptado para rodar em Google Colab\n"
      ]
    },
    {
      "cell_type": "code",
      "source": [],
      "metadata": {
        "id": "ZLjBzf740rtb"
      },
      "execution_count": null,
      "outputs": []
    },
    {
      "cell_type": "markdown",
      "source": [
        "# Instalar bibliotecas necessárias"
      ],
      "metadata": {
        "id": "_ncW3Biu0spP"
      }
    },
    {
      "cell_type": "code",
      "source": [
        "!pip install PyPDF2 --quiet\n",
        "!pip install langchain --quiet\n",
        "!pip install langchain_google_genai --quiet\n",
        "!pip install python-dotenv --quiet\n",
        "!pip install google-generativeai --quiet\n",
        "!pip install langchain_community --quiet\n",
        "!pip install ipywidgets --quiet\n",
        "!pip install faiss-gpu --quiet"
      ],
      "metadata": {
        "colab": {
          "base_uri": "https://localhost:8080/"
        },
        "id": "vlVUSCTFcmPj",
        "outputId": "2cced807-0145-45eb-bbbb-c48f75a075d6"
      },
      "execution_count": 1,
      "outputs": [
        {
          "output_type": "stream",
          "name": "stdout",
          "text": [
            "\u001b[2K     \u001b[90m━━━━━━━━━━━━━━━━━━━━━━━━━━━━━━━━━━━━━━━━\u001b[0m \u001b[32m232.6/232.6 kB\u001b[0m \u001b[31m2.7 MB/s\u001b[0m eta \u001b[36m0:00:00\u001b[0m\n",
            "\u001b[2K     \u001b[90m━━━━━━━━━━━━━━━━━━━━━━━━━━━━━━━━━━━━━━━━\u001b[0m \u001b[32m1.0/1.0 MB\u001b[0m \u001b[31m8.1 MB/s\u001b[0m eta \u001b[36m0:00:00\u001b[0m\n",
            "\u001b[2K     \u001b[90m━━━━━━━━━━━━━━━━━━━━━━━━━━━━━━━━━━━━━━━━\u001b[0m \u001b[32m2.0/2.0 MB\u001b[0m \u001b[31m17.4 MB/s\u001b[0m eta \u001b[36m0:00:00\u001b[0m\n",
            "\u001b[2K     \u001b[90m━━━━━━━━━━━━━━━━━━━━━━━━━━━━━━━━━━━━━━━━\u001b[0m \u001b[32m302.9/302.9 kB\u001b[0m \u001b[31m3.3 MB/s\u001b[0m eta \u001b[36m0:00:00\u001b[0m\n",
            "\u001b[2K     \u001b[90m━━━━━━━━━━━━━━━━━━━━━━━━━━━━━━━━━━━━━━━━\u001b[0m \u001b[32m120.8/120.8 kB\u001b[0m \u001b[31m10.0 MB/s\u001b[0m eta \u001b[36m0:00:00\u001b[0m\n",
            "\u001b[2K     \u001b[90m━━━━━━━━━━━━━━━━━━━━━━━━━━━━━━━━━━━━━━━━\u001b[0m \u001b[32m49.3/49.3 kB\u001b[0m \u001b[31m3.1 MB/s\u001b[0m eta \u001b[36m0:00:00\u001b[0m\n",
            "\u001b[2K     \u001b[90m━━━━━━━━━━━━━━━━━━━━━━━━━━━━━━━━━━━━━━━━\u001b[0m \u001b[32m53.0/53.0 kB\u001b[0m \u001b[31m3.9 MB/s\u001b[0m eta \u001b[36m0:00:00\u001b[0m\n",
            "\u001b[2K     \u001b[90m━━━━━━━━━━━━━━━━━━━━━━━━━━━━━━━━━━━━━━━━\u001b[0m \u001b[32m142.5/142.5 kB\u001b[0m \u001b[31m4.1 MB/s\u001b[0m eta \u001b[36m0:00:00\u001b[0m\n",
            "\u001b[2K     \u001b[90m━━━━━━━━━━━━━━━━━━━━━━━━━━━━━━━━━━━━━━━━\u001b[0m \u001b[32m1.6/1.6 MB\u001b[0m \u001b[31m10.4 MB/s\u001b[0m eta \u001b[36m0:00:00\u001b[0m\n",
            "\u001b[2K     \u001b[90m━━━━━━━━━━━━━━━━━━━━━━━━━━━━━━━━━━━━━━━━\u001b[0m \u001b[32m85.5/85.5 MB\u001b[0m \u001b[31m8.0 MB/s\u001b[0m eta \u001b[36m0:00:00\u001b[0m\n",
            "\u001b[?25h"
          ]
        }
      ]
    },
    {
      "cell_type": "markdown",
      "source": [
        "# Importar as bibliotecas necessárias"
      ],
      "metadata": {
        "id": "oeivmP-G00HU"
      }
    },
    {
      "cell_type": "code",
      "source": [
        "import os\n",
        "from PyPDF2 import PdfReader\n",
        "from dotenv import load_dotenv\n",
        "from google.colab import files\n",
        "import ipywidgets as widgets\n",
        "from IPython.display import display, clear_output\n",
        "from io import BytesIO"
      ],
      "metadata": {
        "id": "1bnGaYLq0ylg"
      },
      "execution_count": 2,
      "outputs": []
    },
    {
      "cell_type": "markdown",
      "source": [
        "# Bibliotecas de IA e processamento de texto"
      ],
      "metadata": {
        "id": "B77ZLMjz03l4"
      }
    },
    {
      "cell_type": "code",
      "source": [
        "from langchain.text_splitter import RecursiveCharacterTextSplitter\n",
        "from langchain_google_genai import GoogleGenerativeAIEmbeddings, ChatGoogleGenerativeAI\n",
        "import google.generativeai as genai\n",
        "from langchain_community.vectorstores import FAISS\n",
        "from langchain.chains.question_answering import load_qa_chain\n",
        "from langchain.prompts import PromptTemplate\n",
        "from google.generativeai.types.safety_types import HarmBlockThreshold, HarmCategory"
      ],
      "metadata": {
        "id": "gP44MNNmcSOT"
      },
      "execution_count": 3,
      "outputs": []
    },
    {
      "cell_type": "markdown",
      "source": [
        "# Pega a API key no Secrets do Colab"
      ],
      "metadata": {
        "id": "0JueC-_o068Y"
      }
    },
    {
      "cell_type": "code",
      "source": [
        "# Coloque sua API Key do Gemini no Secrets do Colab antes\n",
        "from google.colab import userdata\n",
        "google_api_key = userdata.get('gemini')\n",
        "genai.configure(api_key=google_api_key)"
      ],
      "metadata": {
        "id": "948-IzAQdd7V"
      },
      "execution_count": 4,
      "outputs": []
    },
    {
      "cell_type": "code",
      "source": [],
      "metadata": {
        "id": "UI-jXnGkwN1v"
      },
      "execution_count": null,
      "outputs": []
    },
    {
      "cell_type": "markdown",
      "source": [
        "# Função para extrair texto de vários documentos PDF"
      ],
      "metadata": {
        "id": "iR2xKP6L0-ko"
      }
    },
    {
      "cell_type": "code",
      "source": [
        "def get_pdf_text(pdf_docs):\n",
        "    text = \"\"\n",
        "    for pdf_data in pdf_docs:\n",
        "        pdf_reader = PdfReader(BytesIO(pdf_data))  # Usa BytesIO para converter dados de bytes em um objeto de arquivo\n",
        "        for page in pdf_reader.pages:\n",
        "            extracted_text = page.extract_text()\n",
        "            if extracted_text:\n",
        "                text += extracted_text\n",
        "    return text"
      ],
      "metadata": {
        "id": "xnwUq8xMrn41"
      },
      "execution_count": 5,
      "outputs": []
    },
    {
      "cell_type": "code",
      "source": [],
      "metadata": {
        "id": "H3pBCBJX1OGv"
      },
      "execution_count": null,
      "outputs": []
    },
    {
      "cell_type": "markdown",
      "source": [
        "# Função para dividir o texto em partes que são mais fáceis de gerenciar e processar"
      ],
      "metadata": {
        "id": "nRGYAzW31A5R"
      }
    },
    {
      "cell_type": "code",
      "source": [
        "def get_text_chunks(text):\n",
        "    text_splitter = RecursiveCharacterTextSplitter(chunk_size=10000, chunk_overlap=1000)\n",
        "    return text_splitter.split_text(text)"
      ],
      "metadata": {
        "id": "FkvAiit4rs2u"
      },
      "execution_count": 6,
      "outputs": []
    },
    {
      "cell_type": "code",
      "source": [],
      "metadata": {
        "id": "4mtJd18i1O3Y"
      },
      "execution_count": null,
      "outputs": []
    },
    {
      "cell_type": "markdown",
      "source": [
        "# Função para criar um armazenamento vetorial a partir de pedaços de texto"
      ],
      "metadata": {
        "id": "0W_-0f0S1FGB"
      }
    },
    {
      "cell_type": "code",
      "source": [
        "def get_vector_store(text_chunks, google_api_key):\n",
        "    # Initialize embeddings with the provided API key\n",
        "    embeddings = GoogleGenerativeAIEmbeddings(model=\"models/embedding-001\", google_api_key=google_api_key)\n",
        "    vector_store = FAISS.from_texts(text_chunks, embedding=embeddings)\n",
        "    vector_store.save_local(\"faiss_index\")\n",
        "    return vector_store"
      ],
      "metadata": {
        "id": "rT1Mbs_or_Pm"
      },
      "execution_count": 7,
      "outputs": []
    },
    {
      "cell_type": "code",
      "source": [],
      "metadata": {
        "id": "HzZP5-LK1PXv"
      },
      "execution_count": null,
      "outputs": []
    },
    {
      "cell_type": "markdown",
      "source": [
        "# Função para criar uma cadeia de respostas de conversação usando um modelo"
      ],
      "metadata": {
        "id": "jMNHtV3A1KcP"
      }
    },
    {
      "cell_type": "code",
      "source": [
        "def get_conversational_chain(google_api_key):\n",
        "    # Instruções detalhadas sobre a operação do chatbot e o formato da resposta\n",
        "    instructions = \"\"\"\n",
        "    Sempre termine as respostas com \"Todas as informações precisam ser checadas com as fontes das informações\".\n",
        "    Você é um assistente para analisar documentos .PDF com um contexto jornalístico. Por exemplo:\n",
        "    documentos da Lei nº 12.527/2011 (Lei de Acesso à Informação), contratos públicos, processos judiciais etc.\n",
        "    Explique os passos de forma simples. Mantenha as respostas concisas e inclua links para ferramentas, pesquisas e páginas da Web das quais você cita informações.\n",
        "    Quando o usuário pedir recursos, certifique-se de que cita as ligações para a investigação ou exemplos.\n",
        "    Se eu lhe pedir para resumir uma passagem, escreva-a ao nível universitário\n",
        "    Quando for relevante, divida os tópicos em partes mais pequenas e fáceis de entender. Quando estiver a editar um texto para mim,\n",
        "    faça uma lista de pontos com todas as alterações no final.\n",
        "    Antes de começar uma tarefa, respire fundo e execute-a passo a passo.\n",
        "    Seja claro, breve e ordenado nas respostas. Seja direto e claro.\n",
        "    Evite opiniões e tente ser neutro.\n",
        "    Se baseie nas classes processuais do Direito no Brasil que estão neste site -  https://www.cnj.jus.br/sgt/consulta_publica_classes.php\n",
        "    Se não souber a resposta diga que não sabe\n",
        "\n",
        "    Quando analisar documentos de processos judiciais procure priorizar nos resumos:\n",
        "    - Verifique se é uma petição inicial, decisão ou sentença\n",
        "    - Faça uma apresentação da ação e de suas partes: breve síntese do processo e de seus pólos ativo e passivo, indicando o tipo de processo, advogados e magistrados\n",
        "    - Motivos que levaram o autor a ajuizar a ação: explicação sucinta do porquê de o autor ter proposto a ação em face do réu\n",
        "    - O que o autor requereu com a ação: citação de todos os requerimentos e pedidos que o autor realizou através do processo, tanto liminarmente quanto no mérito\n",
        "    - Resultado das decisões: exposição do que foi decidido nas decisões interlocutórias (liminares) e na sentença\n",
        "    - Status: Ao final do resumo é importante que se indique o status do processo\n",
        "\n",
        "    Quando analisar documentos de licitações ou contratos públicos, saiba isto:\n",
        "    As licitações públicas no Brasil são um processo administrativo formal e transparente, utilizado pela administração pública para contratar bens, serviços ou obras. O objetivo principal é garantir a aplicação dos princípios da administração pública, como impessoalidade, publicidade, economicidade, eficiência, moralidade e igualdade.\n",
        "Etapas do Processo Licitatório:\n",
        "    Fase Preparatória: A administração pública define a necessidade de contratar um bem, serviço ou obra e elabora o edital da licitação, que contém todas as regras e procedimentos do processo.\n",
        "    Divulgação do Edital: O edital é publicado em diário oficial e em outros meios de comunicação, para que empresas e pessoas interessadas possam tomar conhecimento e participar da licitação.\n",
        "    Apresentação de Propostas: As empresas e pessoas interessadas apresentam suas propostas, que devem atender às exigências do edital.\n",
        "    Julgamento das Propostas: Uma comissão de licitação analisa as propostas e seleciona a mais vantajosa para a administração pública, levando em consideração critérios como preço, qualidade, prazo e experiência do licitante.\n",
        "    Adjudicação e Contratação: A administração pública adjudica o contrato à empresa vencedora da licitação e formaliza o contrato.\n",
        "    Execução do Contrato: A empresa vencedora executa o contrato, fornecendo o bem, serviço ou obra contratado.\n",
        "    Fiscalização e Recebimento: A administração pública fiscaliza a execução do contrato e recebe o bem, serviço ou obra, após verificar se está de acordo com o contratado.\n",
        "Modalidades de Licitação:\n",
        "A Lei de Licitações e Contratos (Lei nº 14.133/2021) prevê diversas modalidades de licitação, cada uma com suas características e procedimentos específicos. As modalidades mais comuns são:\n",
        "    Pregão: Modalidade mais rápida e simples, utilizada para compras de bens e serviços de valor pequeno ou médio.\n",
        "    Concorrência: Modalidade utilizada para compras de bens e serviços de valor elevado, obras públicas e serviços de engenharia.\n",
        "    Tomada de Preços: Modalidade utilizada para contratação de obras públicas e serviços de engenharia de valor pequeno ou médio.\n",
        "    Concurso: Modalidade utilizada para a seleção de projetos técnicos, científicos ou artísticos.\n",
        "    Leilão: Modalidade utilizada para a venda de bens públicos, como imóveis e veículos.\n",
        "Importância das Licitações Públicas:\n",
        "As licitações públicas são importantes para garantir:\n",
        "    Transparência: O processo licitatório é público e transparente, o que permite que qualquer cidadão possa acompanhar as etapas do processo e fiscalizar a utilização dos recursos públicos.\n",
        "    Competitividade: As empresas e pessoas interessadas competem entre si para apresentar a proposta mais vantajosa para a administração pública, o que garante a obtenção de melhores preços e serviços.\n",
        "    Eficiência: A administração pública contrata o bem, serviço ou obra que melhor atende às suas necessidades, com o melhor custo-benefício.\n",
        "    Moralidade: O processo licitatório contribui para prevenir a corrupção e o favorecimento de empresas ou pessoas específicas.\n",
        "Onde Obter Mais Informações:\n",
        "Para mais informações sobre licitações públicas no Brasil, você pode consultar os seguintes sites:\n",
        "    Portal da Transparência: https://portaldatransparencia.gov.br/\n",
        "    Ministério da Economia: https://www.gov.br/economia/pt-br\n",
        "    Tribunal de Contas da União: https://www.TCU.gov.br/\n",
        "\n",
        "    No Brasil, o termo mais comum para se referir a licitações sem concorrentes é inexigibilidade ou dispensa de licitação.\n",
        "Este termo está previsto na Lei de Licitações e Contratos (Lei nº 14.133/2021), que define as hipóteses em que a administração pública pode contratar bens, serviços ou obras sem a necessidade de realizar licitação.\n",
        "Outras expressões que podem ser utilizadas para se referir a licitações sem concorrentes:\n",
        "    Licitação deserta: Essa expressão é utilizada para indicar que a licitação não teve nenhum participante, ou seja, nenhuma empresa apresentou proposta.\n",
        "    Licitação única: Essa expressão é utilizada para indicar que apenas uma empresa apresentou proposta, o que significa que a licitação não foi competitiva.\n",
        "    Contratação direta: Essa expressão é utilizada para se referir à modalidade de contratação que a administração pública pode utilizar em casos de inexigibilidade de licitação.\n",
        "É importante ressaltar que a inexigibilidade de licitação não é sinônimo de falta de transparência ou de controle. A Lei de Licitações e Contratos estabelece diversas regras e procedimentos que a administração pública deve seguir para garantir a lisura e a economicidade na contratação de bens, serviços ou obras, mesmo em casos de inexigibilidade de licitação.\n",
        "Alguns exemplos de situações em que a inexigibilidade de licitação pode ser aplicada:\n",
        "    Aquisição de bens ou serviços com fornecedor único: Quando existe apenas um único fornecedor para o bem ou serviço que a administração pública precisa adquirir, a licitação torna-se inviável.\n",
        "    Contratação em caso de emergência: Em situações de urgência ou calamidade pública, a administração pública pode contratar bens, serviços ou obras sem licitação, para garantir o atendimento imediato das necessidades da população.\n",
        "    Contratação de serviços artísticos ou culturais: A Lei de Licitações e Contratos permite a contratação direta de artistas ou profissionais de cultura, sem a necessidade de licitação, para a realização de obras de arte, espetáculos ou outros eventos culturais.\n",
        "\n",
        "    Os documentos que trazem respostas de um pedido de acesso à informação pela Lei nº 12.527/2011 (LAI - Lei de Acesso à Informação) normalmente possuem:\n",
        "- Nome do órgão público\n",
        "- Nomes dos setores do órgão público responsáveis pelas informações\n",
        "- Assunto\n",
        "- Resumo da demanda\n",
        "- Informações complementares\n",
        "- Nomes das pessoas responsáveis pela resposta do pedido da LAI\n",
        "- Data da resposta\n",
        "É importante que a análise dos documentos que citam a LAI feita por este chatbot tragam informações:\n",
        "- Data\n",
        "- Protocolo NUP\n",
        "- Nome do órgão público\n",
        "- Nomes das pessoas responsáveis pela resposta do pedido da LAI\n",
        "- Data da resposta\n",
        "- E demais informações de resumo que demonstrem se o pedido da LAI foi totalmente atendido, parcialmente ou foi negado\n",
        "\n",
        "    \"\"\"\n",
        "\n",
        "    prompt_template = f\"\"\"\n",
        "    {instructions}\n",
        "    Contexto:\\n{{context}}\\n\n",
        "    Questão: \\n{{question}}\\n\n",
        "\n",
        "    Resposta:\n",
        "    \"\"\"\n",
        "\n",
        "    # Carregar o modelo de IA de conversação com as configurações de segurança especificadas\n",
        "    model = ChatGoogleGenerativeAI(model=\"gemini-1.0-pro\",\n",
        "                                   google_api_key=google_api_key,\n",
        "                                   temperature=0,\n",
        "                                   safety_settings = {\n",
        "                                       HarmCategory.HARM_CATEGORY_UNSPECIFIED: HarmBlockThreshold.BLOCK_ONLY_HIGH,\n",
        "                                       HarmCategory.HARM_CATEGORY_DANGEROUS_CONTENT: HarmBlockThreshold.BLOCK_ONLY_HIGH,\n",
        "                                       HarmCategory.HARM_CATEGORY_HATE_SPEECH: HarmBlockThreshold.BLOCK_ONLY_HIGH,\n",
        "                                       HarmCategory.HARM_CATEGORY_HARASSMENT: HarmBlockThreshold.BLOCK_ONLY_HIGH,\n",
        "                                       HarmCategory.HARM_CATEGORY_SEXUALLY_EXPLICIT: HarmBlockThreshold.BLOCK_ONLY_HIGH\n",
        "                                      })\n",
        "\n",
        "    prompt = PromptTemplate(template=prompt_template, input_variables=[\"context\", \"question\"])\n",
        "    return load_qa_chain(model, chain_type=\"stuff\", prompt=prompt)"
      ],
      "metadata": {
        "id": "mZjHHsnOsDau"
      },
      "execution_count": 8,
      "outputs": []
    },
    {
      "cell_type": "code",
      "source": [],
      "metadata": {
        "id": "2A9meZ9n1QoT"
      },
      "execution_count": null,
      "outputs": []
    },
    {
      "cell_type": "markdown",
      "source": [
        "# Função para processar a entrada do usuário e gerar respostas"
      ],
      "metadata": {
        "id": "PARnYM9I1R-I"
      }
    },
    {
      "cell_type": "code",
      "source": [
        "\n",
        "def user_input(vector_store, chain, question):\n",
        "    docs = vector_store.similarity_search(question)\n",
        "    return chain({\"input_documents\": docs, \"question\": question}, return_only_outputs=True)\n"
      ],
      "metadata": {
        "id": "qyMMusR7scgu"
      },
      "execution_count": 9,
      "outputs": []
    },
    {
      "cell_type": "code",
      "source": [],
      "metadata": {
        "id": "SZtpUSKt1Wl4"
      },
      "execution_count": null,
      "outputs": []
    },
    {
      "cell_type": "markdown",
      "source": [
        "# Função para carregar PDFs e processar texto"
      ],
      "metadata": {
        "id": "twXdh7H91UL7"
      }
    },
    {
      "cell_type": "code",
      "source": [
        "\n",
        "def upload_and_process(google_api_key):\n",
        "    uploaded = files.upload()\n",
        "    if uploaded:\n",
        "        pdf_docs = list(uploaded.values())\n",
        "        raw_text = get_pdf_text(pdf_docs)\n",
        "        text_chunks = get_text_chunks(raw_text)\n",
        "        vector_store = get_vector_store(text_chunks, google_api_key)  # Pass API key here\n",
        "        return vector_store\n",
        "    else:\n",
        "        return None"
      ],
      "metadata": {
        "id": "sg57F6cJsjAm"
      },
      "execution_count": 10,
      "outputs": []
    },
    {
      "cell_type": "code",
      "source": [],
      "metadata": {
        "id": "5bFOW4kU1YTo"
      },
      "execution_count": null,
      "outputs": []
    },
    {
      "cell_type": "code",
      "source": [],
      "metadata": {
        "id": "qz_6myN_soFh"
      },
      "execution_count": null,
      "outputs": []
    },
    {
      "cell_type": "markdown",
      "source": [
        "# Interface de usuário no Colab"
      ],
      "metadata": {
        "id": "qri09AFX1Zwq"
      }
    },
    {
      "cell_type": "markdown",
      "source": [
        "## 1 - Depois de executar o bloco de código abaixo, clique em Carregar PDFs e coloque seu(s) PDF(s)\n",
        "## 2 - Depois de processar escreva a pergunta\n",
        "## 3 - Clique em Perguntar\n",
        "(pode continuar com mais perguntas)"
      ],
      "metadata": {
        "id": "mwzpOsIn1eus"
      }
    },
    {
      "cell_type": "code",
      "source": [],
      "metadata": {
        "id": "1T6mlH-t0nQw"
      },
      "execution_count": null,
      "outputs": []
    },
    {
      "cell_type": "code",
      "source": [
        "# Criação dos widgets\n",
        "question_box = widgets.Text(description=\"Pergunta:\")\n",
        "ask_button = widgets.Button(description=\"Perguntar\")\n",
        "upload_button = widgets.Button(description=\"Carregar PDFs\")\n",
        "output_area = widgets.Output()\n",
        "\n",
        "# Função chamada quando o botão de pergunta é clicado\n",
        "def on_ask_clicked(b):\n",
        "    with output_area:\n",
        "        clear_output()\n",
        "        if 'chat_chain' in globals() and 'vector_store' in globals():\n",
        "            response = user_input(vector_store, chat_chain, question_box.value)\n",
        "            print(response['output_text'])\n",
        "        else:\n",
        "            print(\"Por favor, carregue e processe os PDFs primeiro.\")\n",
        "\n",
        "# Função chamada quando o botão de carregar é clicado\n",
        "def on_upload_clicked(b):\n",
        "    with output_area:\n",
        "        clear_output()\n",
        "        if google_api_key:\n",
        "            global vector_store, chat_chain\n",
        "            vector_store = upload_and_process(google_api_key)\n",
        "            chat_chain = get_conversational_chain(google_api_key)\n",
        "            print(\"PDFs carregados e processados. Faça suas perguntas.\")\n",
        "\n",
        "# Vinculando os botões às funções\n",
        "ask_button.on_click(on_ask_clicked)\n",
        "upload_button.on_click(on_upload_clicked)\n",
        "\n",
        "# Display dos widgets\n",
        "display(question_box, upload_button, ask_button, output_area)"
      ],
      "metadata": {
        "colab": {
          "base_uri": "https://localhost:8080/",
          "height": 167,
          "referenced_widgets": [
            "17c58954ce454bb7a2424b46d774fe19",
            "cbb16dd250c0491c9617e2163fc3eb6c",
            "3c09e8156fe14a7eadc7b8f9c0001b28",
            "021ba14394124eec8136ddd0637926de",
            "47254eef95f64f6c9446fb06c4c2a1e3",
            "b94dae7276c24de5b1197b69c0cf9d82",
            "24a8630b4a5140c7a15d0b58938a4c49",
            "0f74f9f153084d69a87f6f07866c8ac3",
            "47aa5735672746acb2f2f7eb4ad64bfe",
            "817628f1c37a412295955445fc869c06",
            "e25d9fcc783a45a892da330913bbcd7a"
          ]
        },
        "id": "YxE5Q9EFzxCh",
        "outputId": "68736034-c24f-4261-ed1c-439fc3010d67"
      },
      "execution_count": 11,
      "outputs": [
        {
          "output_type": "display_data",
          "data": {
            "text/plain": [
              "Text(value='', description='Pergunta:')"
            ],
            "application/vnd.jupyter.widget-view+json": {
              "version_major": 2,
              "version_minor": 0,
              "model_id": "17c58954ce454bb7a2424b46d774fe19"
            }
          },
          "metadata": {}
        },
        {
          "output_type": "display_data",
          "data": {
            "text/plain": [
              "Button(description='Carregar PDFs', style=ButtonStyle())"
            ],
            "application/vnd.jupyter.widget-view+json": {
              "version_major": 2,
              "version_minor": 0,
              "model_id": "021ba14394124eec8136ddd0637926de"
            }
          },
          "metadata": {}
        },
        {
          "output_type": "display_data",
          "data": {
            "text/plain": [
              "Button(description='Perguntar', style=ButtonStyle())"
            ],
            "application/vnd.jupyter.widget-view+json": {
              "version_major": 2,
              "version_minor": 0,
              "model_id": "24a8630b4a5140c7a15d0b58938a4c49"
            }
          },
          "metadata": {}
        },
        {
          "output_type": "display_data",
          "data": {
            "text/plain": [
              "Output()"
            ],
            "application/vnd.jupyter.widget-view+json": {
              "version_major": 2,
              "version_minor": 0,
              "model_id": "817628f1c37a412295955445fc869c06"
            }
          },
          "metadata": {}
        }
      ]
    },
    {
      "cell_type": "code",
      "source": [],
      "metadata": {
        "id": "sPDl-Y7jzxQ6"
      },
      "execution_count": null,
      "outputs": []
    }
  ]
}